{
 "cells": [
  {
   "cell_type": "code",
   "execution_count": 1,
   "metadata": {
    "_cell_guid": "b1076dfc-b9ad-4769-8c92-a6c4dae69d19",
    "_uuid": "8f2839f25d086af736a60e9eeb907d3b93b6e0e5"
   },
   "outputs": [
    {
     "name": "stdout",
     "output_type": "stream",
     "text": [
      "['heart.csv']\n"
     ]
    }
   ],
   "source": [
    "\"\"\"\n",
    "Created on Sun Mar 17 20:53:24 2019\n",
    "\n",
    "@author: vivek\n",
    "\"\"\"\n",
    "# Call data manipulation libraries\n",
    "import pandas as pd\n",
    "import numpy as np\n",
    "\n",
    "#Feature creation libraries\n",
    "from sklearn.random_projection import SparseRandomProjection as sr  # Projection features\n",
    "from sklearn.cluster import KMeans                    # Cluster features\n",
    "from sklearn.preprocessing import PolynomialFeatures  # Interaction features\n",
    "\n",
    "#For feature selection\n",
    "from sklearn.feature_selection import SelectKBest\n",
    "from sklearn.feature_selection import mutual_info_classif  # Selection criteria\n",
    "\n",
    "#Data processing\n",
    "#caling data in various manner\n",
    "from sklearn.preprocessing import StandardScaler, MinMaxScaler, scale\n",
    "#Transform categorical (integer) to dummy\n",
    "from sklearn.preprocessing import OneHotEncoder\n",
    "\n",
    "#Splitting data\n",
    "from sklearn.model_selection import train_test_split\n",
    "\n",
    "#Decision tree modeling\n",
    "from sklearn.tree import  DecisionTreeClassifier as dt\n",
    "\n",
    "# RandomForest modeling\n",
    "from sklearn.ensemble import RandomForestClassifier as rf\n",
    "\n",
    "# Plotting libraries to plot feature importance\n",
    "import matplotlib.pyplot as plt\n",
    "import seaborn as sns\n",
    "\n",
    "# Misc\n",
    "import os, time, gc\n",
    "print(os.listdir(\"../input\"))\n"
   ]
  },
  {
   "cell_type": "code",
   "execution_count": 2,
   "metadata": {
    "_cell_guid": "79c7e3d0-c299-4dcb-8224-4455121ee9b0",
    "_uuid": "d629ff2d2480ee46fbb7e2d37f6b5fab8052498a"
   },
   "outputs": [],
   "source": [
    "# Set working directory to read file\n",
    "os.chdir(\"../input\")\n",
    "\n",
    "# Read the file provided\n",
    "heartdf=pd.read_csv(\"heart.csv\")"
   ]
  },
  {
   "cell_type": "code",
   "execution_count": 3,
   "metadata": {
    "_uuid": "2ef9193efcfdaff8219ab6188940db1470f8c1b8"
   },
   "outputs": [
    {
     "data": {
      "text/html": [
       "<div>\n",
       "<style scoped>\n",
       "    .dataframe tbody tr th:only-of-type {\n",
       "        vertical-align: middle;\n",
       "    }\n",
       "\n",
       "    .dataframe tbody tr th {\n",
       "        vertical-align: top;\n",
       "    }\n",
       "\n",
       "    .dataframe thead th {\n",
       "        text-align: right;\n",
       "    }\n",
       "</style>\n",
       "<table border=\"1\" class=\"dataframe\">\n",
       "  <thead>\n",
       "    <tr style=\"text-align: right;\">\n",
       "      <th></th>\n",
       "      <th>age</th>\n",
       "      <th>sex</th>\n",
       "      <th>cp</th>\n",
       "      <th>trestbps</th>\n",
       "      <th>chol</th>\n",
       "      <th>fbs</th>\n",
       "      <th>restecg</th>\n",
       "      <th>thalach</th>\n",
       "      <th>exang</th>\n",
       "      <th>oldpeak</th>\n",
       "      <th>slope</th>\n",
       "      <th>ca</th>\n",
       "      <th>thal</th>\n",
       "      <th>target</th>\n",
       "    </tr>\n",
       "  </thead>\n",
       "  <tbody>\n",
       "    <tr>\n",
       "      <th>0</th>\n",
       "      <td>63</td>\n",
       "      <td>1</td>\n",
       "      <td>3</td>\n",
       "      <td>145</td>\n",
       "      <td>233</td>\n",
       "      <td>1</td>\n",
       "      <td>0</td>\n",
       "      <td>150</td>\n",
       "      <td>0</td>\n",
       "      <td>2.3</td>\n",
       "      <td>0</td>\n",
       "      <td>0</td>\n",
       "      <td>1</td>\n",
       "      <td>1</td>\n",
       "    </tr>\n",
       "    <tr>\n",
       "      <th>1</th>\n",
       "      <td>37</td>\n",
       "      <td>1</td>\n",
       "      <td>2</td>\n",
       "      <td>130</td>\n",
       "      <td>250</td>\n",
       "      <td>0</td>\n",
       "      <td>1</td>\n",
       "      <td>187</td>\n",
       "      <td>0</td>\n",
       "      <td>3.5</td>\n",
       "      <td>0</td>\n",
       "      <td>0</td>\n",
       "      <td>2</td>\n",
       "      <td>1</td>\n",
       "    </tr>\n",
       "    <tr>\n",
       "      <th>2</th>\n",
       "      <td>41</td>\n",
       "      <td>0</td>\n",
       "      <td>1</td>\n",
       "      <td>130</td>\n",
       "      <td>204</td>\n",
       "      <td>0</td>\n",
       "      <td>0</td>\n",
       "      <td>172</td>\n",
       "      <td>0</td>\n",
       "      <td>1.4</td>\n",
       "      <td>2</td>\n",
       "      <td>0</td>\n",
       "      <td>2</td>\n",
       "      <td>1</td>\n",
       "    </tr>\n",
       "  </tbody>\n",
       "</table>\n",
       "</div>"
      ],
      "text/plain": [
       "   age  sex  cp  trestbps  chol   ...    oldpeak  slope  ca  thal  target\n",
       "0   63    1   3       145   233   ...        2.3      0   0     1       1\n",
       "1   37    1   2       130   250   ...        3.5      0   0     2       1\n",
       "2   41    0   1       130   204   ...        1.4      2   0     2       1\n",
       "\n",
       "[3 rows x 14 columns]"
      ]
     },
     "execution_count": 3,
     "metadata": {},
     "output_type": "execute_result"
    }
   ],
   "source": [
    "# Have a look at the data\n",
    "heartdf.shape\n",
    "heartdf.dtypes # All afeatures are integers\n",
    "heartdf.head(3)"
   ]
  },
  {
   "cell_type": "code",
   "execution_count": 4,
   "metadata": {
    "_uuid": "08f833368698d84c99ecb05d8b1096812e51c08c"
   },
   "outputs": [
    {
     "data": {
      "text/plain": [
       "(303,)"
      ]
     },
     "execution_count": 4,
     "metadata": {},
     "output_type": "execute_result"
    }
   ],
   "source": [
    "#Seperate the predictors and target columns\n",
    "\n",
    "x=heartdf.drop(columns = ['target'])#Predictors\n",
    "x.shape  #(303, 13)\n",
    "y=heartdf['target'] #target column\n",
    "y.shape  #(303,)"
   ]
  },
  {
   "cell_type": "code",
   "execution_count": 5,
   "metadata": {
    "_uuid": "828cdf6154d4866b9149d69660c40d57fb517ab6"
   },
   "outputs": [
    {
     "data": {
      "text/plain": [
       "(91,)"
      ]
     },
     "execution_count": 5,
     "metadata": {},
     "output_type": "execute_result"
    }
   ],
   "source": [
    "x_train,x_test,y_train,y_test=train_test_split(     x,    # Predictors\n",
    "                                                    y,                   # Target\n",
    "                                                    test_size = 0.3      # split-ratio\n",
    "                                                    )\n",
    "\n",
    "x_train.shape #(212, 13)\n",
    "x_test.shape #(91, 13)\n",
    "y_train.shape #(212,)\n",
    "y_test.shape  #(91,)"
   ]
  },
  {
   "cell_type": "code",
   "execution_count": 6,
   "metadata": {
    "_uuid": "1c7d1f6ed219a8d319b72f050a8fcaea5e7ae503"
   },
   "outputs": [
    {
     "data": {
      "text/plain": [
       "(91, 13)"
      ]
     },
     "execution_count": 6,
     "metadata": {},
     "output_type": "execute_result"
    }
   ],
   "source": [
    "#check if all the columns are zeroes in any row\n",
    "x = np.sum(x_train, axis = 1)\n",
    "v = x.index[x == 0]             # Get index of the row which meets a condition\n",
    "v\n",
    "\n",
    "# Drop the rows from test data if v is not empty\n",
    "x_test.drop(v, axis = 0, inplace = True)\n",
    "x_test.shape  #no drop of rows           "
   ]
  },
  {
   "cell_type": "code",
   "execution_count": 7,
   "metadata": {
    "_uuid": "5165323ef7fcc15c45fb71416b420eb8ee6fb6b9"
   },
   "outputs": [
    {
     "data": {
      "text/plain": [
       "0"
      ]
     },
     "execution_count": 7,
     "metadata": {},
     "output_type": "execute_result"
    }
   ],
   "source": [
    "# Check if there are Missing values? None\n",
    "x_train.isnull().sum().sum()  # 0\n",
    "x_test.isnull().sum().sum()   # 0"
   ]
  },
  {
   "cell_type": "code",
   "execution_count": 8,
   "metadata": {
    "_uuid": "de188db8bb2b99f026d3b5c3a0ce838641d39d4d"
   },
   "outputs": [],
   "source": [
    "############################ BB. Feature Engineering #########################\n",
    "############################ Using Statistical Numbers #####################"
   ]
  },
  {
   "cell_type": "code",
   "execution_count": 9,
   "metadata": {
    "_uuid": "f6cb70b3bd5845e6b14f274fa079d950d4358aec"
   },
   "outputs": [
    {
     "data": {
      "text/plain": [
       "151     8\n",
       "85      8\n",
       "295    10\n",
       "115     8\n",
       "11      9\n",
       "Name: count_not0, dtype: int64"
      ]
     },
     "execution_count": 9,
     "metadata": {},
     "output_type": "execute_result"
    }
   ],
   "source": [
    "#  Assume that value of '0' in a cell implies missing feature\n",
    "#     Transform train and test dataframes\n",
    "#     replacing '0' with NaN\n",
    "#     Use pd.replace()\n",
    "\n",
    "#converting to nan for the quick calculations of mean,median,variance...\n",
    "tmp_train = x_train.replace(0, np.nan)\n",
    "tmp_test = x_test.replace(0,np.nan)\n",
    "\n",
    "\n",
    "#  Check if 0 has been replaced by NaN\n",
    "tmp_train.head(1)\n",
    "tmp_test.head(1)\n",
    "\n",
    "tmp_train.notna().head(1)\n",
    "x_train[\"count_not0\"] = tmp_train.notna().sum(axis = 1)\n",
    "x_test['count_not0'] = tmp_test.notna().sum(axis = 1)\n",
    "x_test['count_not0'].head()"
   ]
  },
  {
   "cell_type": "code",
   "execution_count": 10,
   "metadata": {
    "_uuid": "8f11e17328f50dc9939a1edf23819a9dce194a91"
   },
   "outputs": [
    {
     "data": {
      "text/html": [
       "<div>\n",
       "<style scoped>\n",
       "    .dataframe tbody tr th:only-of-type {\n",
       "        vertical-align: middle;\n",
       "    }\n",
       "\n",
       "    .dataframe tbody tr th {\n",
       "        vertical-align: top;\n",
       "    }\n",
       "\n",
       "    .dataframe thead th {\n",
       "        text-align: right;\n",
       "    }\n",
       "</style>\n",
       "<table border=\"1\" class=\"dataframe\">\n",
       "  <thead>\n",
       "    <tr style=\"text-align: right;\">\n",
       "      <th></th>\n",
       "      <th>age</th>\n",
       "      <th>sex</th>\n",
       "      <th>cp</th>\n",
       "      <th>trestbps</th>\n",
       "      <th>chol</th>\n",
       "      <th>fbs</th>\n",
       "      <th>restecg</th>\n",
       "      <th>thalach</th>\n",
       "      <th>exang</th>\n",
       "      <th>oldpeak</th>\n",
       "      <th>slope</th>\n",
       "      <th>ca</th>\n",
       "      <th>thal</th>\n",
       "      <th>count_not0</th>\n",
       "      <th>var</th>\n",
       "      <th>median</th>\n",
       "      <th>mean</th>\n",
       "      <th>std</th>\n",
       "      <th>max</th>\n",
       "      <th>min</th>\n",
       "      <th>sum</th>\n",
       "    </tr>\n",
       "  </thead>\n",
       "  <tbody>\n",
       "    <tr>\n",
       "      <th>271</th>\n",
       "      <td>61</td>\n",
       "      <td>1</td>\n",
       "      <td>3</td>\n",
       "      <td>134</td>\n",
       "      <td>234</td>\n",
       "      <td>0</td>\n",
       "      <td>1</td>\n",
       "      <td>145</td>\n",
       "      <td>0</td>\n",
       "      <td>2.6</td>\n",
       "      <td>1</td>\n",
       "      <td>2</td>\n",
       "      <td>2</td>\n",
       "      <td>11</td>\n",
       "      <td>6620.298182</td>\n",
       "      <td>2.60</td>\n",
       "      <td>53.327273</td>\n",
       "      <td>81.365215</td>\n",
       "      <td>234.0</td>\n",
       "      <td>1.0</td>\n",
       "      <td>586.6</td>\n",
       "    </tr>\n",
       "    <tr>\n",
       "      <th>267</th>\n",
       "      <td>49</td>\n",
       "      <td>1</td>\n",
       "      <td>2</td>\n",
       "      <td>118</td>\n",
       "      <td>149</td>\n",
       "      <td>0</td>\n",
       "      <td>0</td>\n",
       "      <td>126</td>\n",
       "      <td>0</td>\n",
       "      <td>0.8</td>\n",
       "      <td>2</td>\n",
       "      <td>3</td>\n",
       "      <td>2</td>\n",
       "      <td>10</td>\n",
       "      <td>3769.095111</td>\n",
       "      <td>2.50</td>\n",
       "      <td>45.280000</td>\n",
       "      <td>61.392957</td>\n",
       "      <td>149.0</td>\n",
       "      <td>0.8</td>\n",
       "      <td>452.8</td>\n",
       "    </tr>\n",
       "    <tr>\n",
       "      <th>150</th>\n",
       "      <td>66</td>\n",
       "      <td>1</td>\n",
       "      <td>0</td>\n",
       "      <td>160</td>\n",
       "      <td>228</td>\n",
       "      <td>0</td>\n",
       "      <td>0</td>\n",
       "      <td>138</td>\n",
       "      <td>0</td>\n",
       "      <td>2.3</td>\n",
       "      <td>2</td>\n",
       "      <td>0</td>\n",
       "      <td>1</td>\n",
       "      <td>8</td>\n",
       "      <td>8035.704107</td>\n",
       "      <td>34.15</td>\n",
       "      <td>74.787500</td>\n",
       "      <td>89.642089</td>\n",
       "      <td>228.0</td>\n",
       "      <td>1.0</td>\n",
       "      <td>598.3</td>\n",
       "    </tr>\n",
       "    <tr>\n",
       "      <th>143</th>\n",
       "      <td>67</td>\n",
       "      <td>0</td>\n",
       "      <td>0</td>\n",
       "      <td>106</td>\n",
       "      <td>223</td>\n",
       "      <td>0</td>\n",
       "      <td>1</td>\n",
       "      <td>142</td>\n",
       "      <td>0</td>\n",
       "      <td>0.3</td>\n",
       "      <td>2</td>\n",
       "      <td>2</td>\n",
       "      <td>2</td>\n",
       "      <td>9</td>\n",
       "      <td>6573.996111</td>\n",
       "      <td>2.00</td>\n",
       "      <td>60.588889</td>\n",
       "      <td>81.080183</td>\n",
       "      <td>223.0</td>\n",
       "      <td>0.3</td>\n",
       "      <td>545.3</td>\n",
       "    </tr>\n",
       "    <tr>\n",
       "      <th>275</th>\n",
       "      <td>52</td>\n",
       "      <td>1</td>\n",
       "      <td>0</td>\n",
       "      <td>125</td>\n",
       "      <td>212</td>\n",
       "      <td>0</td>\n",
       "      <td>1</td>\n",
       "      <td>168</td>\n",
       "      <td>0</td>\n",
       "      <td>1.0</td>\n",
       "      <td>2</td>\n",
       "      <td>2</td>\n",
       "      <td>3</td>\n",
       "      <td>10</td>\n",
       "      <td>6596.455556</td>\n",
       "      <td>2.50</td>\n",
       "      <td>56.700000</td>\n",
       "      <td>81.218567</td>\n",
       "      <td>212.0</td>\n",
       "      <td>1.0</td>\n",
       "      <td>567.0</td>\n",
       "    </tr>\n",
       "  </tbody>\n",
       "</table>\n",
       "</div>"
      ],
      "text/plain": [
       "     age  sex  cp  trestbps  ...          std    max  min    sum\n",
       "271   61    1   3       134  ...    81.365215  234.0  1.0  586.6\n",
       "267   49    1   2       118  ...    61.392957  149.0  0.8  452.8\n",
       "150   66    1   0       160  ...    89.642089  228.0  1.0  598.3\n",
       "143   67    0   0       106  ...    81.080183  223.0  0.3  545.3\n",
       "275   52    1   0       125  ...    81.218567  212.0  1.0  567.0\n",
       "\n",
       "[5 rows x 21 columns]"
      ]
     },
     "execution_count": 10,
     "metadata": {},
     "output_type": "execute_result"
    }
   ],
   "source": [
    "# Similary create other statistical features\n",
    "# Pandas has a number of statistical functions like  \"var\", \"median\", \"mean\", \"std\", \"max\", \"min\"\n",
    "# Row sums of features 1:13. More successful when data is binary.\n",
    "feat = [ \"var\", \"median\", \"mean\", \"std\", \"max\", \"min\",\"sum\"]\n",
    "for i in feat:\n",
    "    x_train[i] = tmp_train.aggregate(i,  axis =1)\n",
    "    x_test[i]  = tmp_test.aggregate(i,axis = 1)\n",
    "\n",
    "x_train.shape # (212, 21)\n",
    "x_train.head()"
   ]
  },
  {
   "cell_type": "code",
   "execution_count": 11,
   "metadata": {
    "_uuid": "847de2fbcfba85302c38268108dbfa7fc035695a"
   },
   "outputs": [],
   "source": [
    "############################################################################\n",
    "################ Feature creation Using Random Projections ##################\n",
    "#  Random projection is a fast dimensionality reduction feature\n",
    "#     Also used to look at the structure of data"
   ]
  },
  {
   "cell_type": "code",
   "execution_count": 12,
   "metadata": {
    "_uuid": "264ec2d0501a14a55e2b79ab1bf041a34e79faab"
   },
   "outputs": [
    {
     "data": {
      "text/plain": [
       "(303, 21)"
      ]
     },
     "execution_count": 12,
     "metadata": {},
     "output_type": "execute_result"
    }
   ],
   "source": [
    "#  Generate features using random projections\n",
    "#     First stack train and test data, one upon another\n",
    "tmp = pd.concat([x_train,x_test],\n",
    "                axis = 0,            # Stack one upon another (rbind)\n",
    "                ignore_index = True\n",
    "                )\n",
    "tmp.shape"
   ]
  },
  {
   "cell_type": "code",
   "execution_count": 13,
   "metadata": {
    "_uuid": "fdcf326a665351e37c961d8b08d6e5b8fb00ff90"
   },
   "outputs": [
    {
     "data": {
      "text/plain": [
       "(303, 21)"
      ]
     },
     "execution_count": 13,
     "metadata": {},
     "output_type": "execute_result"
    }
   ],
   "source": [
    "#  Let us create 5 random projections/columns\n",
    "#     This decision, at present, is arbitrary\n",
    "NUM_OF_COM = 5\n",
    "\n",
    "# Transform tmp t0 numpy array\n",
    "#      Henceforth we will work with array only\n",
    "tmp = tmp.values\n",
    "tmp.shape    # (303, 21)"
   ]
  },
  {
   "cell_type": "code",
   "execution_count": 14,
   "metadata": {
    "_uuid": "bd28fc39b419174a1538aae06258756a6d3f6a04"
   },
   "outputs": [],
   "source": [
    "#  Create an instance of class\n",
    "rp_instance = sr(n_components = NUM_OF_COM)"
   ]
  },
  {
   "cell_type": "code",
   "execution_count": 15,
   "metadata": {
    "_uuid": "cc7e193d83d8f78d7b1e6a636d3080fea4b7d103"
   },
   "outputs": [
    {
     "data": {
      "text/plain": [
       "(303, 5)"
      ]
     },
     "execution_count": 15,
     "metadata": {},
     "output_type": "execute_result"
    }
   ],
   "source": [
    "# fit and transform the (original) dataset\n",
    "# Random Projections with desired number of components are returned\n",
    "rp = rp_instance.fit_transform(tmp[:, :13])\n",
    "rp.shape"
   ]
  },
  {
   "cell_type": "code",
   "execution_count": 16,
   "metadata": {
    "_uuid": "3d0ddc7a74183ec2ab5aedbf269b1232a7eaeb26"
   },
   "outputs": [
    {
     "data": {
      "text/plain": [
       "['r0', 'r1', 'r2', 'r3', 'r4']"
      ]
     },
     "execution_count": 16,
     "metadata": {},
     "output_type": "execute_result"
    }
   ],
   "source": [
    "# Create some column names for these columns\n",
    "#      We will use them at the end of this code\n",
    "rp_col_names = [\"r\" + str(i) for i in range(5)]\n",
    "rp_col_names"
   ]
  },
  {
   "cell_type": "code",
   "execution_count": 17,
   "metadata": {
    "_uuid": "ebe2db63aa0a7c66ae99389b3f902bbd17476393"
   },
   "outputs": [],
   "source": [
    "###############################################################################\n",
    "############################ Feature creation using kmeans ####################\n",
    "######################Can be skipped without loss of continuity################\n"
   ]
  },
  {
   "cell_type": "code",
   "execution_count": 18,
   "metadata": {
    "_uuid": "cf794020e77a404a6ccf83c5b6dcc2e2a3ed78ca"
   },
   "outputs": [],
   "source": [
    "# Before clustering, scale data\n",
    "#  Create a StandardScaler instance\n",
    "se = StandardScaler()\n",
    "# fit() and transform() in one step\n",
    "tmp = se.fit_transform(tmp)"
   ]
  },
  {
   "cell_type": "code",
   "execution_count": 19,
   "metadata": {
    "_uuid": "8cadeb71e9ccdeff03b9fcfce8e5047e28268157"
   },
   "outputs": [
    {
     "data": {
      "text/plain": [
       "2"
      ]
     },
     "execution_count": 19,
     "metadata": {},
     "output_type": "execute_result"
    }
   ],
   "source": [
    "#     No of centroids is no of classes in the 'target'\n",
    "centers = heartdf['target'].nunique()    # 2 unique classes\n",
    "centers               # 2"
   ]
  },
  {
   "cell_type": "code",
   "execution_count": 20,
   "metadata": {
    "_uuid": "f7df29f40f7635b1e7ec4a4f17ce37efc6a6ca5e"
   },
   "outputs": [],
   "source": [
    "# Begin clustering\n",
    "#  First create object to perform clustering\n",
    "kmeans = KMeans(n_clusters=centers, # How many\n",
    "                n_jobs = 2)         # Parallel jobs for n_init"
   ]
  },
  {
   "cell_type": "code",
   "execution_count": 21,
   "metadata": {
    "_uuid": "8b0e915ee9d7332fee36e87e4f4712abd846d1db"
   },
   "outputs": [
    {
     "data": {
      "text/plain": [
       "303"
      ]
     },
     "execution_count": 21,
     "metadata": {},
     "output_type": "execute_result"
    }
   ],
   "source": [
    "# Next train the model on the original data only\n",
    "kmeans.fit(tmp[:, : 13])\n",
    "\n",
    "#  Get clusterlabel for each row (data-point)\n",
    "kmeans.labels_\n",
    "kmeans.labels_.size   # 303"
   ]
  },
  {
   "cell_type": "code",
   "execution_count": 22,
   "metadata": {
    "_uuid": "479cc233d202d937719f1537ff054bbf2b0ef9a7"
   },
   "outputs": [],
   "source": [
    "# If Cluster labels are categorical convert them to dummy\n",
    "# Create an instance of OneHotEncoder class\n",
    "ohe = OneHotEncoder(sparse = False)"
   ]
  },
  {
   "cell_type": "code",
   "execution_count": 23,
   "metadata": {
    "_uuid": "e0068bbf48e57b32824eba056c127d89f05ae415"
   },
   "outputs": [
    {
     "name": "stderr",
     "output_type": "stream",
     "text": [
      "/opt/conda/lib/python3.6/site-packages/sklearn/preprocessing/_encoders.py:371: FutureWarning: The handling of integer data will change in version 0.22. Currently, the categories are determined based on the range [0, max(values)], while in the future they will be determined based on the unique values.\n",
      "If you want the future behaviour and silence this warning, you can specify \"categories='auto'\".\n",
      "In case you used a LabelEncoder before this OneHotEncoder to convert the categories to integers, then you can now use the OneHotEncoder directly.\n",
      "  warnings.warn(msg, FutureWarning)\n"
     ]
    },
    {
     "data": {
      "text/plain": [
       "OneHotEncoder(categorical_features=None, categories=None,\n",
       "       dtype=<class 'numpy.float64'>, handle_unknown='error',\n",
       "       n_values=None, sparse=False)"
      ]
     },
     "execution_count": 23,
     "metadata": {},
     "output_type": "execute_result"
    }
   ],
   "source": [
    "#  Use ohe to learn data\n",
    "#      ohe.fit(kmeans.labels_)\n",
    "ohe.fit(kmeans.labels_.reshape(-1,1))     # reshape(-1,1) recommended by fit()\n",
    "                                          # '-1' is a placeholder for actual"
   ]
  },
  {
   "cell_type": "code",
   "execution_count": 24,
   "metadata": {
    "_uuid": "5770d0003f055ff616bd3f525cfa3cec29ef82c1"
   },
   "outputs": [
    {
     "data": {
      "text/plain": [
       "(303, 2)"
      ]
     },
     "execution_count": 24,
     "metadata": {},
     "output_type": "execute_result"
    }
   ],
   "source": [
    "# Transform data now\n",
    "dummy_clusterlabels = ohe.transform(kmeans.labels_.reshape(-1,1))#Reshape is used because onehot cannot recognise if it is in array form like (1,2,3,4,,,,)\n",
    "dummy_clusterlabels\n",
    "dummy_clusterlabels.shape    # 303 X 2 (as many as there are classes)"
   ]
  },
  {
   "cell_type": "code",
   "execution_count": 25,
   "metadata": {
    "_uuid": "e96dcde2da19dddd8fc3698822a0101de4a8ba27"
   },
   "outputs": [
    {
     "data": {
      "text/plain": [
       "['k0', 'k1']"
      ]
     },
     "execution_count": 25,
     "metadata": {},
     "output_type": "execute_result"
    }
   ],
   "source": [
    "#  We will use the following as names of new nine columns\n",
    "#      We need them at the end of this code\n",
    "\n",
    "k_means_names = [\"k\" + str(i) for i in range(2)]\n",
    "k_means_names"
   ]
  },
  {
   "cell_type": "code",
   "execution_count": 26,
   "metadata": {
    "_uuid": "a09c68989a25fe4affe8a3ead97f0e462cbbf5e1"
   },
   "outputs": [],
   "source": [
    "############################ Interaction features #######################\n",
    "# Will require lots of memory if we take large number of features\n",
    "#     Best strategy is to consider only impt features\n",
    "\n",
    "degree = 2\n",
    "poly = PolynomialFeatures(degree,                 # Degree 2\n",
    "                          interaction_only=True,  # Avoid e.g. square(a)#not includes f1square and f2square\n",
    "                          include_bias = False    # No constant term\n",
    "                          )"
   ]
  },
  {
   "cell_type": "code",
   "execution_count": 27,
   "metadata": {
    "_uuid": "89387d75aec4fb3239ebd9201a12339aa3d49687"
   },
   "outputs": [
    {
     "data": {
      "text/plain": [
       "(303, 36)"
      ]
     },
     "execution_count": 27,
     "metadata": {},
     "output_type": "execute_result"
    }
   ],
   "source": [
    "#  Consider only first 8 features to save memory\n",
    "#      fit and transform\n",
    "df =  poly.fit_transform(tmp[:, : 8])\n",
    "\n",
    "df.shape     # 303 X 36"
   ]
  },
  {
   "cell_type": "code",
   "execution_count": 28,
   "metadata": {
    "_uuid": "a071a824fcf206a7f56509603f788210d29d9621"
   },
   "outputs": [
    {
     "data": {
      "text/plain": [
       "['poly0',\n",
       " 'poly1',\n",
       " 'poly2',\n",
       " 'poly3',\n",
       " 'poly4',\n",
       " 'poly5',\n",
       " 'poly6',\n",
       " 'poly7',\n",
       " 'poly8',\n",
       " 'poly9',\n",
       " 'poly10',\n",
       " 'poly11',\n",
       " 'poly12',\n",
       " 'poly13',\n",
       " 'poly14',\n",
       " 'poly15',\n",
       " 'poly16',\n",
       " 'poly17',\n",
       " 'poly18',\n",
       " 'poly19',\n",
       " 'poly20',\n",
       " 'poly21',\n",
       " 'poly22',\n",
       " 'poly23',\n",
       " 'poly24',\n",
       " 'poly25',\n",
       " 'poly26',\n",
       " 'poly27',\n",
       " 'poly28',\n",
       " 'poly29',\n",
       " 'poly30',\n",
       " 'poly31',\n",
       " 'poly32',\n",
       " 'poly33',\n",
       " 'poly34',\n",
       " 'poly35']"
      ]
     },
     "execution_count": 28,
     "metadata": {},
     "output_type": "execute_result"
    }
   ],
   "source": [
    "# Generate some names for these 36 columns\n",
    "poly_names = [ \"poly\" + str(i)  for i in range(36)]\n",
    "poly_names"
   ]
  },
  {
   "cell_type": "code",
   "execution_count": 29,
   "metadata": {
    "_uuid": "067038431689c780fa4379b4d0dabfafd659b2cd"
   },
   "outputs": [
    {
     "data": {
      "text/plain": [
       "(303, 21)"
      ]
     },
     "execution_count": 29,
     "metadata": {},
     "output_type": "execute_result"
    }
   ],
   "source": [
    "################# concatenate all features now ##############################\n",
    "\n",
    "# Append now all generated features together\n",
    "# Append random projections, kmeans and polynomial features to tmp array\n",
    "\n",
    "tmp.shape          # 303 X 21"
   ]
  },
  {
   "cell_type": "code",
   "execution_count": 30,
   "metadata": {
    "_uuid": "e8dc43c58f9e93da1bf967ee199a3ca61458a86a"
   },
   "outputs": [
    {
     "data": {
      "text/plain": [
       "(303, 64)"
      ]
     },
     "execution_count": 30,
     "metadata": {},
     "output_type": "execute_result"
    }
   ],
   "source": [
    "# If variable, 'dummy_clusterlabels', exists, stack kmeans generated\n",
    "# columns also else not. 'vars()'' is an inbuilt function in python.All python variables are contained in vars().\n",
    "\n",
    "if ('dummy_clusterlabels' in vars()):               #\n",
    "    tmp = np.hstack([tmp,rp,dummy_clusterlabels, df])\n",
    "else:\n",
    "    tmp = np.hstack([tmp,rp, df])       # No kmeans      <==\n",
    "\n",
    "\n",
    "tmp.shape          # 303 X 64  "
   ]
  },
  {
   "cell_type": "code",
   "execution_count": 31,
   "metadata": {
    "_uuid": "ad2476814e41a00ddd5baf3969fefb9dbce73da3"
   },
   "outputs": [
    {
     "data": {
      "text/plain": [
       "(91, 64)"
      ]
     },
     "execution_count": 31,
     "metadata": {},
     "output_type": "execute_result"
    }
   ],
   "source": [
    "#  Separate train and test\n",
    "X = tmp[: x_train.shape[0], : ]\n",
    "X.shape                             # 212 X 64 if no kmeans: (61878, 126)\n",
    "\n",
    "test = tmp[x_train.shape[0] :, : ]\n",
    "test.shape                         # 91 X 64; if no kmeans: (144367, 126)"
   ]
  },
  {
   "cell_type": "code",
   "execution_count": 32,
   "metadata": {
    "_uuid": "b2992a7d76a80ca127eae9f85419305398a82c95"
   },
   "outputs": [
    {
     "data": {
      "text/plain": [
       "(64, 64)"
      ]
     },
     "execution_count": 32,
     "metadata": {},
     "output_type": "execute_result"
    }
   ],
   "source": [
    "################## Model building #####################\n",
    "\n",
    "y_train.shape\n",
    "#  Split data into training and validation dataset\n",
    "X_train, X_test, y_train, y_test = train_test_split(\n",
    "                                                    X,\n",
    "                                                    y_train,\n",
    "                                                    test_size = 0.3)\n",
    "X_train.shape    # 148 X 64\n",
    "X_test.shape     # 64 X 64;"
   ]
  },
  {
   "cell_type": "code",
   "execution_count": 33,
   "metadata": {
    "_uuid": "4d000bdfc165e90ca887bb51ef9f86fc6cdc747e"
   },
   "outputs": [],
   "source": [
    "# Decision tree classification\n",
    "#  Create an instance of class\n",
    "clf = dt(min_samples_split = 5,\n",
    "         min_samples_leaf= 4\n",
    "        )"
   ]
  },
  {
   "cell_type": "code",
   "execution_count": 34,
   "metadata": {
    "_uuid": "c2183eb12b03cf262646876f56661eb2cc94de8e"
   },
   "outputs": [
    {
     "data": {
      "text/plain": [
       "0.78125"
      ]
     },
     "execution_count": 34,
     "metadata": {},
     "output_type": "execute_result"
    }
   ],
   "source": [
    "#  Fit/train the object on training data\n",
    "#      Build model\n",
    "clf = clf.fit(X_train, y_train)\n",
    "            \n",
    "# Use model to make predictions\n",
    "classes = clf.predict(X_test)\n",
    "\n",
    "#  Check accuracy\n",
    "(classes == y_test).sum()/y_test.size"
   ]
  },
  {
   "cell_type": "code",
   "execution_count": 35,
   "metadata": {
    "_uuid": "994cc11f558dcf8213edb73f5bb26c47ce64e03a"
   },
   "outputs": [],
   "source": [
    "#  Get feature importance\n",
    "clf.feature_importances_        # Column-wise feature importance\n",
    "clf.feature_importances_.size   # 64\n",
    "\n",
    "# To our list of column names, append all other col names\n",
    "#      generated by random projection, kmeans (onehotencoding)\n",
    "#      and polynomial features\n",
    "#      But first check if kmeans was used to generate features\n",
    "colNames = x_train.columns.values\n",
    "len(colNames)\n",
    "if ('dummy_clusterlabels' in vars()):       # If dummy_clusterlabels labels are defined\n",
    "    colNames = list(colNames) + rp_col_names+ k_means_names + poly_names\n",
    "else:\n",
    "    colNames = colNames = list(colNames) + rp_col_names +  poly_names      # No kmeans      <==\n"
   ]
  },
  {
   "cell_type": "code",
   "execution_count": 36,
   "metadata": {
    "_uuid": "0f4b337f1a49d2c114ae9f7c21c675d6ad24b89a"
   },
   "outputs": [],
   "source": [
    "# Create a dataframe of feature importance and corresponding\n",
    "#      column names. Sort dataframe by importance of feature\n",
    "feat_imp = pd.DataFrame({\n",
    "                   \"importance\": clf.feature_importances_ ,\n",
    "                   \"featureNames\" : colNames\n",
    "                  }\n",
    "                 ).sort_values(by = \"importance\", ascending=False)\n",
    "\n"
   ]
  },
  {
   "cell_type": "code",
   "execution_count": 37,
   "metadata": {
    "_uuid": "d7b67814c0cf1814a07bb52651bfd8aec24f2421"
   },
   "outputs": [
    {
     "data": {
      "text/html": [
       "<div>\n",
       "<style scoped>\n",
       "    .dataframe tbody tr th:only-of-type {\n",
       "        vertical-align: middle;\n",
       "    }\n",
       "\n",
       "    .dataframe tbody tr th {\n",
       "        vertical-align: top;\n",
       "    }\n",
       "\n",
       "    .dataframe thead th {\n",
       "        text-align: right;\n",
       "    }\n",
       "</style>\n",
       "<table border=\"1\" class=\"dataframe\">\n",
       "  <thead>\n",
       "    <tr style=\"text-align: right;\">\n",
       "      <th></th>\n",
       "      <th>importance</th>\n",
       "      <th>featureNames</th>\n",
       "    </tr>\n",
       "  </thead>\n",
       "  <tbody>\n",
       "    <tr>\n",
       "      <th>26</th>\n",
       "      <td>0.497597</td>\n",
       "      <td>k0</td>\n",
       "    </tr>\n",
       "    <tr>\n",
       "      <th>37</th>\n",
       "      <td>0.102300</td>\n",
       "      <td>poly9</td>\n",
       "    </tr>\n",
       "    <tr>\n",
       "      <th>1</th>\n",
       "      <td>0.087101</td>\n",
       "      <td>sex</td>\n",
       "    </tr>\n",
       "    <tr>\n",
       "      <th>54</th>\n",
       "      <td>0.070102</td>\n",
       "      <td>poly26</td>\n",
       "    </tr>\n",
       "    <tr>\n",
       "      <th>39</th>\n",
       "      <td>0.066655</td>\n",
       "      <td>poly11</td>\n",
       "    </tr>\n",
       "    <tr>\n",
       "      <th>49</th>\n",
       "      <td>0.059546</td>\n",
       "      <td>poly21</td>\n",
       "    </tr>\n",
       "    <tr>\n",
       "      <th>60</th>\n",
       "      <td>0.042249</td>\n",
       "      <td>poly32</td>\n",
       "    </tr>\n",
       "    <tr>\n",
       "      <th>56</th>\n",
       "      <td>0.026639</td>\n",
       "      <td>poly28</td>\n",
       "    </tr>\n",
       "    <tr>\n",
       "      <th>4</th>\n",
       "      <td>0.022943</td>\n",
       "      <td>chol</td>\n",
       "    </tr>\n",
       "    <tr>\n",
       "      <th>2</th>\n",
       "      <td>0.017253</td>\n",
       "      <td>cp</td>\n",
       "    </tr>\n",
       "    <tr>\n",
       "      <th>9</th>\n",
       "      <td>0.007616</td>\n",
       "      <td>oldpeak</td>\n",
       "    </tr>\n",
       "    <tr>\n",
       "      <th>0</th>\n",
       "      <td>0.000000</td>\n",
       "      <td>age</td>\n",
       "    </tr>\n",
       "    <tr>\n",
       "      <th>42</th>\n",
       "      <td>0.000000</td>\n",
       "      <td>poly14</td>\n",
       "    </tr>\n",
       "    <tr>\n",
       "      <th>44</th>\n",
       "      <td>0.000000</td>\n",
       "      <td>poly16</td>\n",
       "    </tr>\n",
       "    <tr>\n",
       "      <th>43</th>\n",
       "      <td>0.000000</td>\n",
       "      <td>poly15</td>\n",
       "    </tr>\n",
       "    <tr>\n",
       "      <th>40</th>\n",
       "      <td>0.000000</td>\n",
       "      <td>poly12</td>\n",
       "    </tr>\n",
       "    <tr>\n",
       "      <th>41</th>\n",
       "      <td>0.000000</td>\n",
       "      <td>poly13</td>\n",
       "    </tr>\n",
       "    <tr>\n",
       "      <th>46</th>\n",
       "      <td>0.000000</td>\n",
       "      <td>poly18</td>\n",
       "    </tr>\n",
       "    <tr>\n",
       "      <th>38</th>\n",
       "      <td>0.000000</td>\n",
       "      <td>poly10</td>\n",
       "    </tr>\n",
       "    <tr>\n",
       "      <th>45</th>\n",
       "      <td>0.000000</td>\n",
       "      <td>poly17</td>\n",
       "    </tr>\n",
       "    <tr>\n",
       "      <th>50</th>\n",
       "      <td>0.000000</td>\n",
       "      <td>poly22</td>\n",
       "    </tr>\n",
       "    <tr>\n",
       "      <th>47</th>\n",
       "      <td>0.000000</td>\n",
       "      <td>poly19</td>\n",
       "    </tr>\n",
       "    <tr>\n",
       "      <th>48</th>\n",
       "      <td>0.000000</td>\n",
       "      <td>poly20</td>\n",
       "    </tr>\n",
       "    <tr>\n",
       "      <th>35</th>\n",
       "      <td>0.000000</td>\n",
       "      <td>poly7</td>\n",
       "    </tr>\n",
       "    <tr>\n",
       "      <th>51</th>\n",
       "      <td>0.000000</td>\n",
       "      <td>poly23</td>\n",
       "    </tr>\n",
       "    <tr>\n",
       "      <th>52</th>\n",
       "      <td>0.000000</td>\n",
       "      <td>poly24</td>\n",
       "    </tr>\n",
       "    <tr>\n",
       "      <th>53</th>\n",
       "      <td>0.000000</td>\n",
       "      <td>poly25</td>\n",
       "    </tr>\n",
       "    <tr>\n",
       "      <th>55</th>\n",
       "      <td>0.000000</td>\n",
       "      <td>poly27</td>\n",
       "    </tr>\n",
       "    <tr>\n",
       "      <th>57</th>\n",
       "      <td>0.000000</td>\n",
       "      <td>poly29</td>\n",
       "    </tr>\n",
       "    <tr>\n",
       "      <th>58</th>\n",
       "      <td>0.000000</td>\n",
       "      <td>poly30</td>\n",
       "    </tr>\n",
       "  </tbody>\n",
       "</table>\n",
       "</div>"
      ],
      "text/plain": [
       "    importance featureNames\n",
       "26    0.497597           k0\n",
       "37    0.102300        poly9\n",
       "1     0.087101          sex\n",
       "54    0.070102       poly26\n",
       "39    0.066655       poly11\n",
       "49    0.059546       poly21\n",
       "60    0.042249       poly32\n",
       "56    0.026639       poly28\n",
       "4     0.022943         chol\n",
       "2     0.017253           cp\n",
       "9     0.007616      oldpeak\n",
       "0     0.000000          age\n",
       "42    0.000000       poly14\n",
       "44    0.000000       poly16\n",
       "43    0.000000       poly15\n",
       "40    0.000000       poly12\n",
       "41    0.000000       poly13\n",
       "46    0.000000       poly18\n",
       "38    0.000000       poly10\n",
       "45    0.000000       poly17\n",
       "50    0.000000       poly22\n",
       "47    0.000000       poly19\n",
       "48    0.000000       poly20\n",
       "35    0.000000        poly7\n",
       "51    0.000000       poly23\n",
       "52    0.000000       poly24\n",
       "53    0.000000       poly25\n",
       "55    0.000000       poly27\n",
       "57    0.000000       poly29\n",
       "58    0.000000       poly30"
      ]
     },
     "execution_count": 37,
     "metadata": {},
     "output_type": "execute_result"
    }
   ],
   "source": [
    "feat_imp.shape                   # 135 X 2 ; without kmeans: (126,2)\n",
    "feat_imp.head(30)"
   ]
  },
  {
   "cell_type": "code",
   "execution_count": 38,
   "metadata": {
    "_uuid": "307c12a2d5524ad7d122fb994a00c4ecce2aeb82"
   },
   "outputs": [
    {
     "data": {
      "text/plain": [
       "[Text(0,0,'k0'),\n",
       " Text(0,0,'poly9'),\n",
       " Text(0,0,'sex'),\n",
       " Text(0,0,'poly26'),\n",
       " Text(0,0,'poly11'),\n",
       " Text(0,0,'poly21'),\n",
       " Text(0,0,'poly32'),\n",
       " Text(0,0,'poly28'),\n",
       " Text(0,0,'chol'),\n",
       " Text(0,0,'cp'),\n",
       " Text(0,0,'oldpeak'),\n",
       " Text(0,0,'age'),\n",
       " Text(0,0,'poly14'),\n",
       " Text(0,0,'poly16'),\n",
       " Text(0,0,'poly15'),\n",
       " Text(0,0,'poly12'),\n",
       " Text(0,0,'poly13'),\n",
       " Text(0,0,'poly18'),\n",
       " Text(0,0,'poly10'),\n",
       " Text(0,0,'poly17')]"
      ]
     },
     "execution_count": 38,
     "metadata": {},
     "output_type": "execute_result"
    },
    {
     "data": {
      "image/png": "[encoded data removed]",
      "text/plain": [
       "<Figure size 432x288 with 1 Axes>"
      ]
     },
     "metadata": {},
     "output_type": "display_data"
    }
   ],
   "source": [
    "# Plot feature importance for first 20 features\n",
    "g = sns.barplot(x = feat_imp.iloc[  : 20 ,  1] , y = feat_imp.iloc[ : 20, 0])\n",
    "g.set_xticklabels(g.get_xticklabels(),rotation=90)\n",
    "\n",
    "#In below graph we can clearly observe that cluster K0 plays a mojor role in Decision tree classification"
   ]
  },
  {
   "cell_type": "code",
   "execution_count": 39,
   "metadata": {
    "_uuid": "5c577a94a8624aae2d8ffad4bce6ddfa637d6f3c"
   },
   "outputs": [
    {
     "data": {
      "text/plain": [
       "0.8125"
      ]
     },
     "execution_count": 39,
     "metadata": {},
     "output_type": "execute_result"
    }
   ],
   "source": [
    "# Random Forest classification\n",
    "#  Instantiate RandomForest classifier\n",
    "clf = rf(n_estimators=50)\n",
    "\n",
    "#  Fit/train the object on training data\n",
    "#      Build model\n",
    "clf = clf.fit(X_train, y_train)\n",
    "\n",
    "#  Use model to make predictions\n",
    "classes = clf.predict(X_test)\n",
    "# Check accuracy\n",
    "(classes == y_test).sum()/y_test.size  "
   ]
  },
  {
   "cell_type": "code",
   "execution_count": 40,
   "metadata": {
    "_uuid": "25df87e477effaedeb66471c190ba9ee3a34259d"
   },
   "outputs": [],
   "source": [
    "#  Get feature importance\n",
    "clf.feature_importances_        # Column-wise feature importance\n",
    "clf.feature_importances_.size   # 64\n",
    "\n",
    "\n",
    "# To our list of column names, append all other col names\n",
    "#      generated by random projection, kmeans (onehotencoding)\n",
    "#      and polynomial features\n",
    "#      But first check if kmeans was used to generate features\n",
    "colNames = x_train.columns.values\n",
    "len(colNames)\n",
    "if ('dummy_clusterlabels' in vars()):       # If dummy_clusterlabels labels are defined\n",
    "    colNames = list(colNames) + rp_col_names+ k_means_names + poly_names\n",
    "else:\n",
    "    colNames = colNames = list(colNames) + rp_col_names +  poly_names      # No kmeans      <=="
   ]
  },
  {
   "cell_type": "code",
   "execution_count": 41,
   "metadata": {
    "_uuid": "82327d3f7622270838ebb18b3433b8c7725482ca"
   },
   "outputs": [
    {
     "data": {
      "text/html": [
       "<div>\n",
       "<style scoped>\n",
       "    .dataframe tbody tr th:only-of-type {\n",
       "        vertical-align: middle;\n",
       "    }\n",
       "\n",
       "    .dataframe tbody tr th {\n",
       "        vertical-align: top;\n",
       "    }\n",
       "\n",
       "    .dataframe thead th {\n",
       "        text-align: right;\n",
       "    }\n",
       "</style>\n",
       "<table border=\"1\" class=\"dataframe\">\n",
       "  <thead>\n",
       "    <tr style=\"text-align: right;\">\n",
       "      <th></th>\n",
       "      <th>importance</th>\n",
       "      <th>featureNames</th>\n",
       "    </tr>\n",
       "  </thead>\n",
       "  <tbody>\n",
       "    <tr>\n",
       "      <th>26</th>\n",
       "      <td>0.083208</td>\n",
       "      <td>k0</td>\n",
       "    </tr>\n",
       "    <tr>\n",
       "      <th>27</th>\n",
       "      <td>0.071599</td>\n",
       "      <td>k1</td>\n",
       "    </tr>\n",
       "    <tr>\n",
       "      <th>10</th>\n",
       "      <td>0.035007</td>\n",
       "      <td>slope</td>\n",
       "    </tr>\n",
       "    <tr>\n",
       "      <th>11</th>\n",
       "      <td>0.034883</td>\n",
       "      <td>ca</td>\n",
       "    </tr>\n",
       "    <tr>\n",
       "      <th>2</th>\n",
       "      <td>0.034567</td>\n",
       "      <td>cp</td>\n",
       "    </tr>\n",
       "    <tr>\n",
       "      <th>7</th>\n",
       "      <td>0.029879</td>\n",
       "      <td>thalach</td>\n",
       "    </tr>\n",
       "    <tr>\n",
       "      <th>30</th>\n",
       "      <td>0.029444</td>\n",
       "      <td>poly2</td>\n",
       "    </tr>\n",
       "    <tr>\n",
       "      <th>12</th>\n",
       "      <td>0.028064</td>\n",
       "      <td>thal</td>\n",
       "    </tr>\n",
       "    <tr>\n",
       "      <th>42</th>\n",
       "      <td>0.026283</td>\n",
       "      <td>poly14</td>\n",
       "    </tr>\n",
       "    <tr>\n",
       "      <th>35</th>\n",
       "      <td>0.024644</td>\n",
       "      <td>poly7</td>\n",
       "    </tr>\n",
       "    <tr>\n",
       "      <th>52</th>\n",
       "      <td>0.024167</td>\n",
       "      <td>poly24</td>\n",
       "    </tr>\n",
       "    <tr>\n",
       "      <th>37</th>\n",
       "      <td>0.021267</td>\n",
       "      <td>poly9</td>\n",
       "    </tr>\n",
       "    <tr>\n",
       "      <th>0</th>\n",
       "      <td>0.020275</td>\n",
       "      <td>age</td>\n",
       "    </tr>\n",
       "    <tr>\n",
       "      <th>54</th>\n",
       "      <td>0.019939</td>\n",
       "      <td>poly26</td>\n",
       "    </tr>\n",
       "    <tr>\n",
       "      <th>9</th>\n",
       "      <td>0.019089</td>\n",
       "      <td>oldpeak</td>\n",
       "    </tr>\n",
       "    <tr>\n",
       "      <th>21</th>\n",
       "      <td>0.019047</td>\n",
       "      <td>r0</td>\n",
       "    </tr>\n",
       "    <tr>\n",
       "      <th>53</th>\n",
       "      <td>0.018812</td>\n",
       "      <td>poly25</td>\n",
       "    </tr>\n",
       "    <tr>\n",
       "      <th>62</th>\n",
       "      <td>0.017752</td>\n",
       "      <td>poly34</td>\n",
       "    </tr>\n",
       "    <tr>\n",
       "      <th>15</th>\n",
       "      <td>0.017077</td>\n",
       "      <td>median</td>\n",
       "    </tr>\n",
       "    <tr>\n",
       "      <th>16</th>\n",
       "      <td>0.016882</td>\n",
       "      <td>mean</td>\n",
       "    </tr>\n",
       "    <tr>\n",
       "      <th>29</th>\n",
       "      <td>0.014899</td>\n",
       "      <td>poly1</td>\n",
       "    </tr>\n",
       "    <tr>\n",
       "      <th>60</th>\n",
       "      <td>0.014590</td>\n",
       "      <td>poly32</td>\n",
       "    </tr>\n",
       "    <tr>\n",
       "      <th>25</th>\n",
       "      <td>0.014434</td>\n",
       "      <td>r4</td>\n",
       "    </tr>\n",
       "    <tr>\n",
       "      <th>28</th>\n",
       "      <td>0.014386</td>\n",
       "      <td>poly0</td>\n",
       "    </tr>\n",
       "    <tr>\n",
       "      <th>23</th>\n",
       "      <td>0.014012</td>\n",
       "      <td>r2</td>\n",
       "    </tr>\n",
       "    <tr>\n",
       "      <th>55</th>\n",
       "      <td>0.013837</td>\n",
       "      <td>poly27</td>\n",
       "    </tr>\n",
       "    <tr>\n",
       "      <th>4</th>\n",
       "      <td>0.013811</td>\n",
       "      <td>chol</td>\n",
       "    </tr>\n",
       "    <tr>\n",
       "      <th>56</th>\n",
       "      <td>0.013780</td>\n",
       "      <td>poly28</td>\n",
       "    </tr>\n",
       "    <tr>\n",
       "      <th>57</th>\n",
       "      <td>0.013575</td>\n",
       "      <td>poly29</td>\n",
       "    </tr>\n",
       "    <tr>\n",
       "      <th>36</th>\n",
       "      <td>0.012999</td>\n",
       "      <td>poly8</td>\n",
       "    </tr>\n",
       "  </tbody>\n",
       "</table>\n",
       "</div>"
      ],
      "text/plain": [
       "    importance featureNames\n",
       "26    0.083208           k0\n",
       "27    0.071599           k1\n",
       "10    0.035007        slope\n",
       "11    0.034883           ca\n",
       "2     0.034567           cp\n",
       "7     0.029879      thalach\n",
       "30    0.029444        poly2\n",
       "12    0.028064         thal\n",
       "42    0.026283       poly14\n",
       "35    0.024644        poly7\n",
       "52    0.024167       poly24\n",
       "37    0.021267        poly9\n",
       "0     0.020275          age\n",
       "54    0.019939       poly26\n",
       "9     0.019089      oldpeak\n",
       "21    0.019047           r0\n",
       "53    0.018812       poly25\n",
       "62    0.017752       poly34\n",
       "15    0.017077       median\n",
       "16    0.016882         mean\n",
       "29    0.014899        poly1\n",
       "60    0.014590       poly32\n",
       "25    0.014434           r4\n",
       "28    0.014386        poly0\n",
       "23    0.014012           r2\n",
       "55    0.013837       poly27\n",
       "4     0.013811         chol\n",
       "56    0.013780       poly28\n",
       "57    0.013575       poly29\n",
       "36    0.012999        poly8"
      ]
     },
     "execution_count": 41,
     "metadata": {},
     "output_type": "execute_result"
    }
   ],
   "source": [
    "feat_imp = pd.DataFrame({\n",
    "                   \"importance\": clf.feature_importances_ ,\n",
    "                   \"featureNames\" : colNames\n",
    "                  }\n",
    "                 ).sort_values(by = \"importance\", ascending=False)\n",
    "\n",
    "\n",
    "feat_imp.shape                   # 135 X 2 ; without kmeans: (126,2)\n",
    "feat_imp.head(30)"
   ]
  },
  {
   "cell_type": "code",
   "execution_count": 42,
   "metadata": {
    "_uuid": "916481d404cd47516c1cf24718f224e3c40c04e4"
   },
   "outputs": [
    {
     "data": {
      "text/plain": [
       "[Text(0,0,'k0'),\n",
       " Text(0,0,'k1'),\n",
       " Text(0,0,'slope'),\n",
       " Text(0,0,'ca'),\n",
       " Text(0,0,'cp'),\n",
       " Text(0,0,'thalach'),\n",
       " Text(0,0,'poly2'),\n",
       " Text(0,0,'thal'),\n",
       " Text(0,0,'poly14'),\n",
       " Text(0,0,'poly7'),\n",
       " Text(0,0,'poly24'),\n",
       " Text(0,0,'poly9'),\n",
       " Text(0,0,'age'),\n",
       " Text(0,0,'poly26'),\n",
       " Text(0,0,'oldpeak'),\n",
       " Text(0,0,'r0'),\n",
       " Text(0,0,'poly25'),\n",
       " Text(0,0,'poly34'),\n",
       " Text(0,0,'median'),\n",
       " Text(0,0,'mean')]"
      ]
     },
     "execution_count": 42,
     "metadata": {},
     "output_type": "execute_result"
    },
    {
     "data": {
      "image/png": "[encoded data removed]",
      "text/plain": [
       "<Figure size 432x288 with 1 Axes>"
      ]
     },
     "metadata": {},
     "output_type": "display_data"
    }
   ],
   "source": [
    "# Plot feature importance for first 20 features\n",
    "g = sns.barplot(x = feat_imp.iloc[  : 20 ,  1] , y = feat_imp.iloc[ : 20, 0])\n",
    "g.set_xticklabels(g.get_xticklabels(),rotation=90)"
   ]
  },
  {
   "cell_type": "code",
   "execution_count": 43,
   "metadata": {
    "_uuid": "990f6d270b4db2ef65f33d3d3e73442682f9aeab"
   },
   "outputs": [],
   "source": []
  }
 ],
 "metadata": {
  "kernelspec": {
   "display_name": "Python 3",
   "language": "python",
   "name": "python3"
  },
  "language_info": {
   "codemirror_mode": {
    "name": "ipython",
    "version": 3
   },
   "file_extension": ".py",
   "mimetype": "text/x-python",
   "name": "python",
   "nbconvert_exporter": "python",
   "pygments_lexer": "ipython3",
   "version": "3.6.6"
  }
 },
 "nbformat": 4,
 "nbformat_minor": 1
}
